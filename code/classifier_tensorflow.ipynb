{
 "cells": [
  {
   "cell_type": "markdown",
   "id": "f323d442",
   "metadata": {},
   "source": [
    "# Give Me Some Credit"
   ]
  },
  {
   "cell_type": "markdown",
   "id": "b9a917df",
   "metadata": {},
   "source": [
    "Modification using WOE transform and classifying using simple neural network.\n",
    "\n",
    "The bad rate is about 6.77% (good 93.23%). Data preprocessing for ML model is using some transformer (toad dt) to binned the features values. The ROC AUC is a little bit (2%) better than the majority classifier in previous jupyter notebook. Nevertheless, it should be noted that even with unbalance dataset, this model could perform well without any resampling.\n",
    "\n",
    "NN performance ==> acc:\t 0.938, f1:\t 0.251, AUC:\t 0.851"
   ]
  },
  {
   "cell_type": "markdown",
   "id": "5ad99b52",
   "metadata": {},
   "source": [
    "<img src=\"./images/ROC_AUC_new.png\" alt=\"Drawing\" style=\"width: 500px;\"/>"
   ]
  },
  {
   "cell_type": "markdown",
   "id": "8b3a7a1f",
   "metadata": {},
   "source": [
    "## Importing libraries and data"
   ]
  },
  {
   "cell_type": "code",
   "execution_count": 1,
   "id": "737362d1",
   "metadata": {},
   "outputs": [
    {
     "name": "stderr",
     "output_type": "stream",
     "text": [
      "2023-08-05 20:07:21.448384: I tensorflow/stream_executor/platform/default/dso_loader.cc:48] Successfully opened dynamic library libcudart.so.10.1\n"
     ]
    }
   ],
   "source": [
    "from IPython.display import Image\n",
    "import numpy as np\n",
    "import pandas as pd\n",
    "import seaborn as sns\n",
    "#from sklearn.model_selection import train_test_split\n",
    "from sklearn.preprocessing import StandardScaler\n",
    "from sklearn.metrics import accuracy_score\n",
    "import numpy as np\n",
    "from sklearn.model_selection import StratifiedKFold\n",
    "from sklearn.decomposition import KernelPCA\n",
    "from sklearn.decomposition import PCA\n",
    "from sklearn.svm import SVC\n",
    "from sklearn.pipeline import make_pipeline\n",
    "from sklearn.linear_model import LogisticRegression\n",
    "from sklearn.model_selection import cross_val_score\n",
    "from sklearn.model_selection import GridSearchCV\n",
    "from matplotlib.colors import ListedColormap\n",
    "import matplotlib.pyplot as plt\n",
    "from sklearn.tree import DecisionTreeClassifier\n",
    "\n",
    "\n",
    "import tensorflow as tf\n",
    "#tf.debugging.set_log_device_placement(True)\n",
    "import pandas as pd\n",
    "import numpy as np\n",
    "from sklearn.model_selection import train_test_split\n",
    "import toad\n",
    "from tensorflow.keras.models import Sequential, load_model\n",
    "from tensorflow.keras.layers import Dense\n",
    "from sklearn.metrics import accuracy_score, f1_score,make_scorer, roc_auc_score, log_loss, roc_curve, roc_auc_score\n",
    "\n",
    "# To check recent matplotlib compatibility\n",
    "import matplotlib\n",
    "from distutils.version import LooseVersion\n",
    "\n",
    "   "
   ]
  },
  {
   "cell_type": "code",
   "execution_count": 2,
   "id": "82716d35",
   "metadata": {
    "scrolled": false
   },
   "outputs": [
    {
     "name": "stdout",
     "output_type": "stream",
     "text": [
      "(150000, 12)\n"
     ]
    },
    {
     "data": {
      "text/html": [
       "<div>\n",
       "<style scoped>\n",
       "    .dataframe tbody tr th:only-of-type {\n",
       "        vertical-align: middle;\n",
       "    }\n",
       "\n",
       "    .dataframe tbody tr th {\n",
       "        vertical-align: top;\n",
       "    }\n",
       "\n",
       "    .dataframe thead th {\n",
       "        text-align: right;\n",
       "    }\n",
       "</style>\n",
       "<table border=\"1\" class=\"dataframe\">\n",
       "  <thead>\n",
       "    <tr style=\"text-align: right;\">\n",
       "      <th></th>\n",
       "      <th>Unnamed: 0</th>\n",
       "      <th>SeriousDlqin2yrs</th>\n",
       "      <th>RevolvingUtilizationOfUnsecuredLines</th>\n",
       "      <th>age</th>\n",
       "      <th>NumberOfTime30-59DaysPastDueNotWorse</th>\n",
       "      <th>DebtRatio</th>\n",
       "      <th>MonthlyIncome</th>\n",
       "      <th>NumberOfOpenCreditLinesAndLoans</th>\n",
       "      <th>NumberOfTimes90DaysLate</th>\n",
       "      <th>NumberRealEstateLoansOrLines</th>\n",
       "      <th>NumberOfTime60-89DaysPastDueNotWorse</th>\n",
       "      <th>NumberOfDependents</th>\n",
       "    </tr>\n",
       "  </thead>\n",
       "  <tbody>\n",
       "    <tr>\n",
       "      <th>0</th>\n",
       "      <td>1</td>\n",
       "      <td>1</td>\n",
       "      <td>0.766127</td>\n",
       "      <td>45</td>\n",
       "      <td>2</td>\n",
       "      <td>0.802982</td>\n",
       "      <td>9120.000000</td>\n",
       "      <td>13</td>\n",
       "      <td>0</td>\n",
       "      <td>6</td>\n",
       "      <td>0</td>\n",
       "      <td>2.0</td>\n",
       "    </tr>\n",
       "    <tr>\n",
       "      <th>1</th>\n",
       "      <td>2</td>\n",
       "      <td>0</td>\n",
       "      <td>0.957151</td>\n",
       "      <td>40</td>\n",
       "      <td>0</td>\n",
       "      <td>0.121876</td>\n",
       "      <td>2600.000000</td>\n",
       "      <td>4</td>\n",
       "      <td>0</td>\n",
       "      <td>0</td>\n",
       "      <td>0</td>\n",
       "      <td>1.0</td>\n",
       "    </tr>\n",
       "    <tr>\n",
       "      <th>2</th>\n",
       "      <td>3</td>\n",
       "      <td>0</td>\n",
       "      <td>0.658180</td>\n",
       "      <td>38</td>\n",
       "      <td>1</td>\n",
       "      <td>0.085113</td>\n",
       "      <td>3042.000000</td>\n",
       "      <td>2</td>\n",
       "      <td>1</td>\n",
       "      <td>0</td>\n",
       "      <td>0</td>\n",
       "      <td>0.0</td>\n",
       "    </tr>\n",
       "    <tr>\n",
       "      <th>3</th>\n",
       "      <td>4</td>\n",
       "      <td>0</td>\n",
       "      <td>0.233810</td>\n",
       "      <td>30</td>\n",
       "      <td>0</td>\n",
       "      <td>0.036050</td>\n",
       "      <td>3300.000000</td>\n",
       "      <td>5</td>\n",
       "      <td>0</td>\n",
       "      <td>0</td>\n",
       "      <td>0</td>\n",
       "      <td>0.0</td>\n",
       "    </tr>\n",
       "    <tr>\n",
       "      <th>4</th>\n",
       "      <td>5</td>\n",
       "      <td>0</td>\n",
       "      <td>0.907239</td>\n",
       "      <td>49</td>\n",
       "      <td>1</td>\n",
       "      <td>0.024926</td>\n",
       "      <td>63588.000000</td>\n",
       "      <td>7</td>\n",
       "      <td>0</td>\n",
       "      <td>1</td>\n",
       "      <td>0</td>\n",
       "      <td>0.0</td>\n",
       "    </tr>\n",
       "    <tr>\n",
       "      <th>...</th>\n",
       "      <td>...</td>\n",
       "      <td>...</td>\n",
       "      <td>...</td>\n",
       "      <td>...</td>\n",
       "      <td>...</td>\n",
       "      <td>...</td>\n",
       "      <td>...</td>\n",
       "      <td>...</td>\n",
       "      <td>...</td>\n",
       "      <td>...</td>\n",
       "      <td>...</td>\n",
       "      <td>...</td>\n",
       "    </tr>\n",
       "    <tr>\n",
       "      <th>149995</th>\n",
       "      <td>149996</td>\n",
       "      <td>0</td>\n",
       "      <td>0.040674</td>\n",
       "      <td>74</td>\n",
       "      <td>0</td>\n",
       "      <td>0.225131</td>\n",
       "      <td>2100.000000</td>\n",
       "      <td>4</td>\n",
       "      <td>0</td>\n",
       "      <td>1</td>\n",
       "      <td>0</td>\n",
       "      <td>0.0</td>\n",
       "    </tr>\n",
       "    <tr>\n",
       "      <th>149996</th>\n",
       "      <td>149997</td>\n",
       "      <td>0</td>\n",
       "      <td>0.299745</td>\n",
       "      <td>44</td>\n",
       "      <td>0</td>\n",
       "      <td>0.716562</td>\n",
       "      <td>5584.000000</td>\n",
       "      <td>4</td>\n",
       "      <td>0</td>\n",
       "      <td>1</td>\n",
       "      <td>0</td>\n",
       "      <td>2.0</td>\n",
       "    </tr>\n",
       "    <tr>\n",
       "      <th>149997</th>\n",
       "      <td>149998</td>\n",
       "      <td>0</td>\n",
       "      <td>0.246044</td>\n",
       "      <td>58</td>\n",
       "      <td>0</td>\n",
       "      <td>3870.000000</td>\n",
       "      <td>6670.221237</td>\n",
       "      <td>18</td>\n",
       "      <td>0</td>\n",
       "      <td>1</td>\n",
       "      <td>0</td>\n",
       "      <td>0.0</td>\n",
       "    </tr>\n",
       "    <tr>\n",
       "      <th>149998</th>\n",
       "      <td>149999</td>\n",
       "      <td>0</td>\n",
       "      <td>0.000000</td>\n",
       "      <td>30</td>\n",
       "      <td>0</td>\n",
       "      <td>0.000000</td>\n",
       "      <td>5716.000000</td>\n",
       "      <td>4</td>\n",
       "      <td>0</td>\n",
       "      <td>0</td>\n",
       "      <td>0</td>\n",
       "      <td>0.0</td>\n",
       "    </tr>\n",
       "    <tr>\n",
       "      <th>149999</th>\n",
       "      <td>150000</td>\n",
       "      <td>0</td>\n",
       "      <td>0.850283</td>\n",
       "      <td>64</td>\n",
       "      <td>0</td>\n",
       "      <td>0.249908</td>\n",
       "      <td>8158.000000</td>\n",
       "      <td>8</td>\n",
       "      <td>0</td>\n",
       "      <td>2</td>\n",
       "      <td>0</td>\n",
       "      <td>0.0</td>\n",
       "    </tr>\n",
       "  </tbody>\n",
       "</table>\n",
       "<p>150000 rows × 12 columns</p>\n",
       "</div>"
      ],
      "text/plain": [
       "        Unnamed: 0  SeriousDlqin2yrs  RevolvingUtilizationOfUnsecuredLines  \\\n",
       "0                1                 1                              0.766127   \n",
       "1                2                 0                              0.957151   \n",
       "2                3                 0                              0.658180   \n",
       "3                4                 0                              0.233810   \n",
       "4                5                 0                              0.907239   \n",
       "...            ...               ...                                   ...   \n",
       "149995      149996                 0                              0.040674   \n",
       "149996      149997                 0                              0.299745   \n",
       "149997      149998                 0                              0.246044   \n",
       "149998      149999                 0                              0.000000   \n",
       "149999      150000                 0                              0.850283   \n",
       "\n",
       "        age  NumberOfTime30-59DaysPastDueNotWorse    DebtRatio  MonthlyIncome  \\\n",
       "0        45                                     2     0.802982    9120.000000   \n",
       "1        40                                     0     0.121876    2600.000000   \n",
       "2        38                                     1     0.085113    3042.000000   \n",
       "3        30                                     0     0.036050    3300.000000   \n",
       "4        49                                     1     0.024926   63588.000000   \n",
       "...     ...                                   ...          ...            ...   \n",
       "149995   74                                     0     0.225131    2100.000000   \n",
       "149996   44                                     0     0.716562    5584.000000   \n",
       "149997   58                                     0  3870.000000    6670.221237   \n",
       "149998   30                                     0     0.000000    5716.000000   \n",
       "149999   64                                     0     0.249908    8158.000000   \n",
       "\n",
       "        NumberOfOpenCreditLinesAndLoans  NumberOfTimes90DaysLate  \\\n",
       "0                                    13                        0   \n",
       "1                                     4                        0   \n",
       "2                                     2                        1   \n",
       "3                                     5                        0   \n",
       "4                                     7                        0   \n",
       "...                                 ...                      ...   \n",
       "149995                                4                        0   \n",
       "149996                                4                        0   \n",
       "149997                               18                        0   \n",
       "149998                                4                        0   \n",
       "149999                                8                        0   \n",
       "\n",
       "        NumberRealEstateLoansOrLines  NumberOfTime60-89DaysPastDueNotWorse  \\\n",
       "0                                  6                                     0   \n",
       "1                                  0                                     0   \n",
       "2                                  0                                     0   \n",
       "3                                  0                                     0   \n",
       "4                                  1                                     0   \n",
       "...                              ...                                   ...   \n",
       "149995                             1                                     0   \n",
       "149996                             1                                     0   \n",
       "149997                             1                                     0   \n",
       "149998                             0                                     0   \n",
       "149999                             2                                     0   \n",
       "\n",
       "        NumberOfDependents  \n",
       "0                      2.0  \n",
       "1                      1.0  \n",
       "2                      0.0  \n",
       "3                      0.0  \n",
       "4                      0.0  \n",
       "...                    ...  \n",
       "149995                 0.0  \n",
       "149996                 2.0  \n",
       "149997                 0.0  \n",
       "149998                 0.0  \n",
       "149999                 0.0  \n",
       "\n",
       "[150000 rows x 12 columns]"
      ]
     },
     "execution_count": 2,
     "metadata": {},
     "output_type": "execute_result"
    }
   ],
   "source": [
    "#importing training data to pandas dataframe\n",
    "\n",
    "df=pd.read_csv('cs-training.csv')\n",
    "#dftest=pd.read_csv('cs-test.csv')\n",
    "\n",
    "df.fillna(df.mean(),inplace=True)\n",
    "#dftest.fillna(df.mean(),inplace=True)\n",
    "\n",
    "print(df.shape)\n",
    "#print(dftest.shape)\n",
    "df"
   ]
  },
  {
   "cell_type": "code",
   "execution_count": 6,
   "id": "d648c418",
   "metadata": {},
   "outputs": [
    {
     "data": {
      "text/plain": [
       "Index(['Unnamed: 0', 'SeriousDlqin2yrs',\n",
       "       'RevolvingUtilizationOfUnsecuredLines', 'age',\n",
       "       'NumberOfTime30-59DaysPastDueNotWorse', 'DebtRatio', 'MonthlyIncome',\n",
       "       'NumberOfOpenCreditLinesAndLoans', 'NumberOfTimes90DaysLate',\n",
       "       'NumberRealEstateLoansOrLines', 'NumberOfTime60-89DaysPastDueNotWorse',\n",
       "       'NumberOfDependents'],\n",
       "      dtype='object')"
      ]
     },
     "execution_count": 6,
     "metadata": {},
     "output_type": "execute_result"
    }
   ],
   "source": [
    "df.columns"
   ]
  },
  {
   "cell_type": "markdown",
   "id": "c58090b2",
   "metadata": {},
   "source": [
    "Split the data"
   ]
  },
  {
   "cell_type": "code",
   "execution_count": 3,
   "id": "2f813038",
   "metadata": {
    "scrolled": false
   },
   "outputs": [
    {
     "name": "stdout",
     "output_type": "stream",
     "text": [
      "(100000, 10)\n",
      "(50000, 10)\n",
      "(100000,)\n",
      "(50000,)\n"
     ]
    },
    {
     "data": {
      "text/plain": [
       "(array([93371.,     0.,     0.,     0.,     0.,     0.,     0.,     0.,\n",
       "            0.,  6629.]),\n",
       " array([0. , 0.1, 0.2, 0.3, 0.4, 0.5, 0.6, 0.7, 0.8, 0.9, 1. ]),\n",
       " <BarContainer object of 10 artists>)"
      ]
     },
     "execution_count": 3,
     "metadata": {},
     "output_type": "execute_result"
    },
    {
     "data": {
      "image/png": "[encoded data removed]",
      "text/plain": [
       "<Figure size 640x480 with 1 Axes>"
      ]
     },
     "metadata": {},
     "output_type": "display_data"
    }
   ],
   "source": [
    "X=pd.get_dummies(df.drop(['Unnamed: 0','SeriousDlqin2yrs'],axis=1))\n",
    "#X['Total Charges']=df['Total Charges'].astype(float)\n",
    "y=df['SeriousDlqin2yrs']\n",
    "X_train, X_test, y_train, y_test=train_test_split(X,y,test_size=1/3)\n",
    "\n",
    "\n",
    "#X_train=df.iloc[:,2:]\n",
    "#X_test=dftest.iloc[:,2:]\n",
    "#y_train=df['SeriousDlqin2yrs']\n",
    "#y_test=dftest['SeriousDlqin2yrs']\n",
    "\n",
    "print(X_train.shape)\n",
    "print(X_test.shape)\n",
    "print(y_train.shape)\n",
    "print(y_test.shape)\n",
    "\n",
    "plt.title('Data before resampling')\n",
    "plt.hist(y_train)\n",
    "#plt.savefig('images/data_beforeresample_dist.png', dpi=300)"
   ]
  },
  {
   "cell_type": "code",
   "execution_count": 86,
   "id": "fb50b34b",
   "metadata": {},
   "outputs": [
    {
     "name": "stdout",
     "output_type": "stream",
     "text": [
      "bad 6.77\n",
      "good 93.23\n"
     ]
    }
   ],
   "source": [
    "#bad rate\n",
    "bad=(y_train==1).sum()/len(y_train)*100\n",
    "print(\"bad %.2f\" % bad)\n",
    "print(\"good %.2f\" % (100-bad))"
   ]
  },
  {
   "cell_type": "code",
   "execution_count": 61,
   "id": "7fc40fa2",
   "metadata": {},
   "outputs": [],
   "source": [
    "scaler = StandardScaler()\n",
    "scaler.fit(X_train)\n",
    "X_train_std=scaler.transform(X_train)\n",
    "X_test_std=scaler.transform(X_test)"
   ]
  },
  {
   "cell_type": "markdown",
   "id": "f74811e3",
   "metadata": {},
   "source": [
    "## Model building neural network"
   ]
  },
  {
   "cell_type": "markdown",
   "id": "864c3222",
   "metadata": {},
   "source": [
    "### Model data without WOE transform"
   ]
  },
  {
   "cell_type": "code",
   "execution_count": 52,
   "id": "48a59da2",
   "metadata": {},
   "outputs": [
    {
     "name": "stdout",
     "output_type": "stream",
     "text": [
      "CPU times: user 46 ms, sys: 0 ns, total: 46 ms\n",
      "Wall time: 46.4 ms\n"
     ]
    }
   ],
   "source": [
    "%%time\n",
    "model=Sequential()\n",
    "model.add(Dense(units=64, activation='relu', input_dim=len(X_train.columns))) #hidden layer, 32 neuron\n",
    "model.add(Dense(units=128, activation='relu')) #hidden layer\n",
    "model.add(Dense(units=1, activation='sigmoid')) #output, yes or no"
   ]
  },
  {
   "cell_type": "code",
   "execution_count": 53,
   "id": "24076da5",
   "metadata": {},
   "outputs": [],
   "source": [
    "model.compile(loss='binary_crossentropy',optimizer='sgd',metrics='accuracy')"
   ]
  },
  {
   "cell_type": "code",
   "execution_count": 80,
   "id": "4ed4acd4",
   "metadata": {
    "scrolled": true
   },
   "outputs": [
    {
     "name": "stdout",
     "output_type": "stream",
     "text": [
      "Epoch 1/10\n",
      "6250/6250 [==============================] - 7s 1ms/step - loss: 0.2095 - accuracy: 0.9331\n",
      "Epoch 2/10\n",
      "6250/6250 [==============================] - 8s 1ms/step - loss: 0.1948 - accuracy: 0.9349\n",
      "Epoch 3/10\n",
      "6250/6250 [==============================] - 8s 1ms/step - loss: 0.1922 - accuracy: 0.9354\n",
      "Epoch 4/10\n",
      "6250/6250 [==============================] - 8s 1ms/step - loss: 0.1909 - accuracy: 0.9357\n",
      "Epoch 5/10\n",
      "6250/6250 [==============================] - 8s 1ms/step - loss: 0.1900 - accuracy: 0.9356\n",
      "Epoch 6/10\n",
      "6250/6250 [==============================] - 8s 1ms/step - loss: 0.1895 - accuracy: 0.9358\n",
      "Epoch 7/10\n",
      "6250/6250 [==============================] - 8s 1ms/step - loss: 0.1889 - accuracy: 0.9359\n",
      "Epoch 8/10\n",
      "6250/6250 [==============================] - 8s 1ms/step - loss: 0.1886 - accuracy: 0.9361\n",
      "Epoch 9/10\n",
      "6250/6250 [==============================] - 8s 1ms/step - loss: 0.1884 - accuracy: 0.9359\n",
      "Epoch 10/10\n",
      "6250/6250 [==============================] - 8s 1ms/step - loss: 0.1881 - accuracy: 0.9361\n",
      "CPU times: user 1min 41s, sys: 7.28 s, total: 1min 48s\n",
      "Wall time: 1min 17s\n"
     ]
    },
    {
     "data": {
      "text/plain": [
       "<tensorflow.python.keras.callbacks.History at 0x7fd7146fc410>"
      ]
     },
     "execution_count": 80,
     "metadata": {},
     "output_type": "execute_result"
    }
   ],
   "source": [
    "%%time\n",
    "model.fit(X_train_std.astype(np.float32), y_train.values.astype(np.float32),epochs=10, batch_size=16)"
   ]
  },
  {
   "cell_type": "code",
   "execution_count": 65,
   "id": "3f384585",
   "metadata": {},
   "outputs": [
    {
     "data": {
      "text/plain": [
       "(100000, 10)"
      ]
     },
     "execution_count": 65,
     "metadata": {},
     "output_type": "execute_result"
    }
   ],
   "source": [
    "X_train_std.shape"
   ]
  },
  {
   "cell_type": "markdown",
   "id": "2e3a5e34",
   "metadata": {},
   "source": [
    "## Prediction no WOE"
   ]
  },
  {
   "cell_type": "code",
   "execution_count": 62,
   "id": "3f08449b",
   "metadata": {},
   "outputs": [],
   "source": [
    "y_hat_prob=model.predict(X_test_std)\n",
    "y_hat=[0 if val<0.5 else 1 for val in y_hat_prob]"
   ]
  },
  {
   "cell_type": "code",
   "execution_count": 97,
   "id": "ba3d73f3",
   "metadata": {},
   "outputs": [
    {
     "name": "stdout",
     "output_type": "stream",
     "text": [
      "acc:\t 0.938\n",
      "f1:\t 0.251\n",
      "AUC:\t 0.851\n"
     ]
    }
   ],
   "source": [
    "print('acc:\\t %.3f' % accuracy_score(y_test, y_hat))\n",
    "f1=f1_score(y_test, y_hat)\n",
    "print('f1:\\t %.3f' % f1)\n",
    "auc = roc_auc_score(y_test, y_hat_prob)\n",
    "print('AUC:\\t %.3f' % auc)"
   ]
  },
  {
   "cell_type": "code",
   "execution_count": 92,
   "id": "54d6b341",
   "metadata": {},
   "outputs": [
    {
     "name": "stdout",
     "output_type": "stream",
     "text": [
      "[[46391   348]\n",
      " [ 2744   517]]\n"
     ]
    },
    {
     "data": {
      "image/png": "[encoded data removed]",
      "text/plain": [
       "<Figure size 250x250 with 1 Axes>"
      ]
     },
     "metadata": {},
     "output_type": "display_data"
    }
   ],
   "source": [
    "# DRAW CONFUSION MATRIX\n",
    "from sklearn.metrics import confusion_matrix\n",
    "\n",
    "confmat = confusion_matrix(y_true=y_test, y_pred=y_hat)\n",
    "print(confmat)\n",
    "\n",
    "fig, ax = plt.subplots(figsize=(2.5, 2.5))\n",
    "ax.matshow(confmat, cmap=plt.cm.Blues, alpha=0.3)\n",
    "for i in range(confmat.shape[0]):\n",
    "    for j in range(confmat.shape[1]):\n",
    "        ax.text(x=j, y=i, s=confmat[i, j], va='center', ha='center')\n",
    "\n",
    "plt.xlabel('Predicted label')\n",
    "plt.ylabel('True label')\n",
    "\n",
    "plt.title('NN NoWOE Confusion Matrix')\n",
    "#plt.savefig('images/confusion_matrix_dt_nn_noWOE.png', dpi=300)\n",
    "plt.show()"
   ]
  },
  {
   "cell_type": "code",
   "execution_count": 93,
   "id": "11d3249b",
   "metadata": {},
   "outputs": [
    {
     "data": {
      "image/png": "[encoded data removed]",
      "text/plain": [
       "<Figure size 640x480 with 1 Axes>"
      ]
     },
     "metadata": {},
     "output_type": "display_data"
    }
   ],
   "source": [
    "from matplotlib import pyplot\n",
    "fpr, tpr, thresholds = roc_curve(y_test, y_hat_prob)\n",
    "# plot the roc curve for the model\n",
    "pyplot.plot(fpr, tpr, linestyle='--', label='Model')\n",
    "\n",
    "# axis labels\n",
    "pyplot.xlabel('False Positive Rate')\n",
    "pyplot.ylabel('True Positive Rate')\n",
    "# show the legend\n",
    "pyplot.legend()\n",
    "# show the plot\n",
    "pyplot.show()"
   ]
  },
  {
   "cell_type": "code",
   "execution_count": 94,
   "id": "93dc3205",
   "metadata": {},
   "outputs": [
    {
     "data": {
      "image/png": "[encoded data removed]",
      "text/plain": [
       "<Figure size 640x480 with 1 Axes>"
      ]
     },
     "metadata": {},
     "output_type": "display_data"
    }
   ],
   "source": [
    "from sklearn.metrics import precision_recall_curve\n",
    "\n",
    "precision, recall, _ = precision_recall_curve(y_test, y_hat_prob)\n",
    "\n",
    "# plot the precision-recall curves\n",
    "pyplot.plot(recall, precision, marker='', label='Model')\n",
    "# axis labels\n",
    "pyplot.xlabel('Recall')\n",
    "pyplot.ylabel('Precision')\n",
    "# show the legend\n",
    "pyplot.legend()\n",
    "# show the plot\n",
    "pyplot.show()"
   ]
  },
  {
   "cell_type": "markdown",
   "id": "bc53759b",
   "metadata": {},
   "source": [
    "### Model data with Binning transform"
   ]
  },
  {
   "cell_type": "markdown",
   "id": "df63fbff",
   "metadata": {},
   "source": [
    "#### Binning"
   ]
  },
  {
   "cell_type": "code",
   "execution_count": 33,
   "id": "c8b15cb5",
   "metadata": {},
   "outputs": [
    {
     "name": "stdout",
     "output_type": "stream",
     "text": [
      "CPU times: user 374 ms, sys: 3.95 ms, total: 378 ms\n",
      "Wall time: 378 ms\n"
     ]
    },
    {
     "data": {
      "text/plain": [
       "<toad.transform.Combiner at 0x7f450c88b750>"
      ]
     },
     "execution_count": 33,
     "metadata": {},
     "output_type": "execute_result"
    }
   ],
   "source": [
    "%%time\n",
    "data_tr = pd.concat([X_train,y_train],axis=1)\n",
    "#data_tr['type'] = 'train' # A new feature to indicate test/training sample\n",
    "data_ts = pd.concat([X_test,y_test],axis=1)\n",
    "#data_ts['type'] = 'test'\n",
    "\n",
    "# automatic binning and WOE transformation\n",
    "c = toad.transform.Combiner()\n",
    "c.fit(data_tr,y='SeriousDlqin2yrs',method='dt',min_samples =  0.05)"
   ]
  },
  {
   "cell_type": "code",
   "execution_count": 34,
   "id": "b2ed1deb",
   "metadata": {},
   "outputs": [
    {
     "name": "stdout",
     "output_type": "stream",
     "text": [
      "CPU times: user 1min 59s, sys: 208 ms, total: 1min 59s\n",
      "Wall time: 1min 59s\n"
     ]
    }
   ],
   "source": [
    "%%time\n",
    "data_tr_bin=c.fit_transform(data_tr,data_tr['SeriousDlqin2yrs'], exclude=['SeriousDlqin2yrs'])\n",
    "data_ts_bin=c.transform(data_ts)"
   ]
  },
  {
   "cell_type": "markdown",
   "id": "f068f50a",
   "metadata": {},
   "source": [
    "### Model data with binning"
   ]
  },
  {
   "cell_type": "code",
   "execution_count": 70,
   "id": "49005dc6",
   "metadata": {},
   "outputs": [
    {
     "data": {
      "text/html": [
       "<div>\n",
       "<style scoped>\n",
       "    .dataframe tbody tr th:only-of-type {\n",
       "        vertical-align: middle;\n",
       "    }\n",
       "\n",
       "    .dataframe tbody tr th {\n",
       "        vertical-align: top;\n",
       "    }\n",
       "\n",
       "    .dataframe thead th {\n",
       "        text-align: right;\n",
       "    }\n",
       "</style>\n",
       "<table border=\"1\" class=\"dataframe\">\n",
       "  <thead>\n",
       "    <tr style=\"text-align: right;\">\n",
       "      <th></th>\n",
       "      <th>RevolvingUtilizationOfUnsecuredLines</th>\n",
       "      <th>age</th>\n",
       "      <th>NumberOfTime30-59DaysPastDueNotWorse</th>\n",
       "      <th>DebtRatio</th>\n",
       "      <th>MonthlyIncome</th>\n",
       "      <th>NumberOfOpenCreditLinesAndLoans</th>\n",
       "      <th>NumberOfTimes90DaysLate</th>\n",
       "      <th>NumberRealEstateLoansOrLines</th>\n",
       "      <th>NumberOfTime60-89DaysPastDueNotWorse</th>\n",
       "      <th>NumberOfDependents</th>\n",
       "      <th>SeriousDlqin2yrs</th>\n",
       "    </tr>\n",
       "  </thead>\n",
       "  <tbody>\n",
       "    <tr>\n",
       "      <th>9614</th>\n",
       "      <td>5</td>\n",
       "      <td>4</td>\n",
       "      <td>0</td>\n",
       "      <td>7</td>\n",
       "      <td>3</td>\n",
       "      <td>7</td>\n",
       "      <td>0</td>\n",
       "      <td>2</td>\n",
       "      <td>0</td>\n",
       "      <td>4</td>\n",
       "      <td>0</td>\n",
       "    </tr>\n",
       "    <tr>\n",
       "      <th>110553</th>\n",
       "      <td>5</td>\n",
       "      <td>1</td>\n",
       "      <td>0</td>\n",
       "      <td>7</td>\n",
       "      <td>4</td>\n",
       "      <td>5</td>\n",
       "      <td>0</td>\n",
       "      <td>1</td>\n",
       "      <td>0</td>\n",
       "      <td>0</td>\n",
       "      <td>0</td>\n",
       "    </tr>\n",
       "    <tr>\n",
       "      <th>144423</th>\n",
       "      <td>3</td>\n",
       "      <td>6</td>\n",
       "      <td>0</td>\n",
       "      <td>4</td>\n",
       "      <td>9</td>\n",
       "      <td>7</td>\n",
       "      <td>0</td>\n",
       "      <td>1</td>\n",
       "      <td>0</td>\n",
       "      <td>0</td>\n",
       "      <td>0</td>\n",
       "    </tr>\n",
       "    <tr>\n",
       "      <th>49825</th>\n",
       "      <td>6</td>\n",
       "      <td>2</td>\n",
       "      <td>0</td>\n",
       "      <td>5</td>\n",
       "      <td>2</td>\n",
       "      <td>7</td>\n",
       "      <td>0</td>\n",
       "      <td>2</td>\n",
       "      <td>0</td>\n",
       "      <td>4</td>\n",
       "      <td>0</td>\n",
       "    </tr>\n",
       "    <tr>\n",
       "      <th>67101</th>\n",
       "      <td>5</td>\n",
       "      <td>5</td>\n",
       "      <td>0</td>\n",
       "      <td>5</td>\n",
       "      <td>2</td>\n",
       "      <td>5</td>\n",
       "      <td>0</td>\n",
       "      <td>1</td>\n",
       "      <td>0</td>\n",
       "      <td>0</td>\n",
       "      <td>0</td>\n",
       "    </tr>\n",
       "    <tr>\n",
       "      <th>...</th>\n",
       "      <td>...</td>\n",
       "      <td>...</td>\n",
       "      <td>...</td>\n",
       "      <td>...</td>\n",
       "      <td>...</td>\n",
       "      <td>...</td>\n",
       "      <td>...</td>\n",
       "      <td>...</td>\n",
       "      <td>...</td>\n",
       "      <td>...</td>\n",
       "      <td>...</td>\n",
       "    </tr>\n",
       "    <tr>\n",
       "      <th>6310</th>\n",
       "      <td>5</td>\n",
       "      <td>2</td>\n",
       "      <td>0</td>\n",
       "      <td>2</td>\n",
       "      <td>8</td>\n",
       "      <td>4</td>\n",
       "      <td>0</td>\n",
       "      <td>0</td>\n",
       "      <td>0</td>\n",
       "      <td>5</td>\n",
       "      <td>0</td>\n",
       "    </tr>\n",
       "    <tr>\n",
       "      <th>104700</th>\n",
       "      <td>9</td>\n",
       "      <td>0</td>\n",
       "      <td>0</td>\n",
       "      <td>5</td>\n",
       "      <td>1</td>\n",
       "      <td>5</td>\n",
       "      <td>0</td>\n",
       "      <td>0</td>\n",
       "      <td>0</td>\n",
       "      <td>5</td>\n",
       "      <td>0</td>\n",
       "    </tr>\n",
       "    <tr>\n",
       "      <th>42700</th>\n",
       "      <td>7</td>\n",
       "      <td>8</td>\n",
       "      <td>3</td>\n",
       "      <td>4</td>\n",
       "      <td>1</td>\n",
       "      <td>4</td>\n",
       "      <td>0</td>\n",
       "      <td>0</td>\n",
       "      <td>0</td>\n",
       "      <td>0</td>\n",
       "      <td>1</td>\n",
       "    </tr>\n",
       "    <tr>\n",
       "      <th>144693</th>\n",
       "      <td>0</td>\n",
       "      <td>9</td>\n",
       "      <td>0</td>\n",
       "      <td>9</td>\n",
       "      <td>6</td>\n",
       "      <td>3</td>\n",
       "      <td>0</td>\n",
       "      <td>2</td>\n",
       "      <td>0</td>\n",
       "      <td>0</td>\n",
       "      <td>0</td>\n",
       "    </tr>\n",
       "    <tr>\n",
       "      <th>148906</th>\n",
       "      <td>3</td>\n",
       "      <td>9</td>\n",
       "      <td>0</td>\n",
       "      <td>2</td>\n",
       "      <td>1</td>\n",
       "      <td>4</td>\n",
       "      <td>0</td>\n",
       "      <td>0</td>\n",
       "      <td>0</td>\n",
       "      <td>0</td>\n",
       "      <td>0</td>\n",
       "    </tr>\n",
       "  </tbody>\n",
       "</table>\n",
       "<p>100000 rows × 11 columns</p>\n",
       "</div>"
      ],
      "text/plain": [
       "        RevolvingUtilizationOfUnsecuredLines  age  \\\n",
       "9614                                       5    4   \n",
       "110553                                     5    1   \n",
       "144423                                     3    6   \n",
       "49825                                      6    2   \n",
       "67101                                      5    5   \n",
       "...                                      ...  ...   \n",
       "6310                                       5    2   \n",
       "104700                                     9    0   \n",
       "42700                                      7    8   \n",
       "144693                                     0    9   \n",
       "148906                                     3    9   \n",
       "\n",
       "        NumberOfTime30-59DaysPastDueNotWorse  DebtRatio  MonthlyIncome  \\\n",
       "9614                                       0          7              3   \n",
       "110553                                     0          7              4   \n",
       "144423                                     0          4              9   \n",
       "49825                                      0          5              2   \n",
       "67101                                      0          5              2   \n",
       "...                                      ...        ...            ...   \n",
       "6310                                       0          2              8   \n",
       "104700                                     0          5              1   \n",
       "42700                                      3          4              1   \n",
       "144693                                     0          9              6   \n",
       "148906                                     0          2              1   \n",
       "\n",
       "        NumberOfOpenCreditLinesAndLoans  NumberOfTimes90DaysLate  \\\n",
       "9614                                  7                        0   \n",
       "110553                                5                        0   \n",
       "144423                                7                        0   \n",
       "49825                                 7                        0   \n",
       "67101                                 5                        0   \n",
       "...                                 ...                      ...   \n",
       "6310                                  4                        0   \n",
       "104700                                5                        0   \n",
       "42700                                 4                        0   \n",
       "144693                                3                        0   \n",
       "148906                                4                        0   \n",
       "\n",
       "        NumberRealEstateLoansOrLines  NumberOfTime60-89DaysPastDueNotWorse  \\\n",
       "9614                               2                                     0   \n",
       "110553                             1                                     0   \n",
       "144423                             1                                     0   \n",
       "49825                              2                                     0   \n",
       "67101                              1                                     0   \n",
       "...                              ...                                   ...   \n",
       "6310                               0                                     0   \n",
       "104700                             0                                     0   \n",
       "42700                              0                                     0   \n",
       "144693                             2                                     0   \n",
       "148906                             0                                     0   \n",
       "\n",
       "        NumberOfDependents  SeriousDlqin2yrs  \n",
       "9614                     4                 0  \n",
       "110553                   0                 0  \n",
       "144423                   0                 0  \n",
       "49825                    4                 0  \n",
       "67101                    0                 0  \n",
       "...                    ...               ...  \n",
       "6310                     5                 0  \n",
       "104700                   5                 0  \n",
       "42700                    0                 1  \n",
       "144693                   0                 0  \n",
       "148906                   0                 0  \n",
       "\n",
       "[100000 rows x 11 columns]"
      ]
     },
     "execution_count": 70,
     "metadata": {},
     "output_type": "execute_result"
    }
   ],
   "source": [
    "data_tr_bin"
   ]
  },
  {
   "cell_type": "code",
   "execution_count": 35,
   "id": "ba8e727e",
   "metadata": {
    "scrolled": true
   },
   "outputs": [
    {
     "name": "stdout",
     "output_type": "stream",
     "text": [
      "CPU times: user 184 ms, sys: 12 ms, total: 196 ms\n",
      "Wall time: 232 ms\n"
     ]
    },
    {
     "name": "stderr",
     "output_type": "stream",
     "text": [
      "2023-08-05 20:20:39.915672: I tensorflow/stream_executor/platform/default/dso_loader.cc:48] Successfully opened dynamic library libcuda.so.1\n",
      "2023-08-05 20:20:39.938074: E tensorflow/stream_executor/cuda/cuda_driver.cc:314] failed call to cuInit: CUDA_ERROR_UNKNOWN: unknown error\n",
      "2023-08-05 20:20:39.938110: I tensorflow/stream_executor/cuda/cuda_diagnostics.cc:169] retrieving CUDA diagnostic information for host: peach\n",
      "2023-08-05 20:20:39.938120: I tensorflow/stream_executor/cuda/cuda_diagnostics.cc:176] hostname: peach\n",
      "2023-08-05 20:20:39.938229: I tensorflow/stream_executor/cuda/cuda_diagnostics.cc:200] libcuda reported version is: 460.106.0\n",
      "2023-08-05 20:20:39.938258: I tensorflow/stream_executor/cuda/cuda_diagnostics.cc:204] kernel reported version is: 460.106.0\n",
      "2023-08-05 20:20:39.938266: I tensorflow/stream_executor/cuda/cuda_diagnostics.cc:310] kernel version seems to match DSO: 460.106.0\n",
      "2023-08-05 20:20:39.939526: I tensorflow/core/platform/cpu_feature_guard.cc:142] This TensorFlow binary is optimized with oneAPI Deep Neural Network Library (oneDNN)to use the following CPU instructions in performance-critical operations:  AVX2 FMA\n",
      "To enable them in other operations, rebuild TensorFlow with the appropriate compiler flags.\n",
      "2023-08-05 20:20:39.969251: I tensorflow/core/platform/profile_utils/cpu_utils.cc:104] CPU Frequency: 2196690000 Hz\n",
      "2023-08-05 20:20:39.969672: I tensorflow/compiler/xla/service/service.cc:168] XLA service 0x9aee110 initialized for platform Host (this does not guarantee that XLA will be used). Devices:\n",
      "2023-08-05 20:20:39.969711: I tensorflow/compiler/xla/service/service.cc:176]   StreamExecutor device (0): Host, Default Version\n"
     ]
    }
   ],
   "source": [
    "%%time\n",
    "model=Sequential()\n",
    "model.add(Dense(units=64, activation='relu', input_dim=len(data_tr_bin.drop(['SeriousDlqin2yrs'],axis=1).columns))) #hidden layer, 32 neuron\n",
    "model.add(Dense(units=128, activation='relu')) #hidden layer\n",
    "model.add(Dense(units=1, activation='sigmoid')) #output, yes or no"
   ]
  },
  {
   "cell_type": "code",
   "execution_count": 36,
   "id": "e21aa14e",
   "metadata": {},
   "outputs": [],
   "source": [
    "model.compile(loss='binary_crossentropy',optimizer='sgd',metrics='accuracy')"
   ]
  },
  {
   "cell_type": "code",
   "execution_count": 37,
   "id": "31d6a828",
   "metadata": {
    "scrolled": true
   },
   "outputs": [
    {
     "name": "stdout",
     "output_type": "stream",
     "text": [
      "Epoch 1/10\n",
      "6250/6250 [==============================] - 8s 1ms/step - loss: 0.2024 - accuracy: 0.9357\n",
      "Epoch 2/10\n",
      "6250/6250 [==============================] - 8s 1ms/step - loss: 0.1891 - accuracy: 0.9370\n",
      "Epoch 3/10\n",
      "6250/6250 [==============================] - 8s 1ms/step - loss: 0.1853 - accuracy: 0.9370\n",
      "Epoch 4/10\n",
      "6250/6250 [==============================] - 8s 1ms/step - loss: 0.1833 - accuracy: 0.9371\n",
      "Epoch 5/10\n",
      "6250/6250 [==============================] - 7s 1ms/step - loss: 0.1820 - accuracy: 0.9369\n",
      "Epoch 6/10\n",
      "6250/6250 [==============================] - 8s 1ms/step - loss: 0.1808 - accuracy: 0.9371\n",
      "Epoch 7/10\n",
      "6250/6250 [==============================] - 16s 3ms/step - loss: 0.1804 - accuracy: 0.9375\n",
      "Epoch 8/10\n",
      "6250/6250 [==============================] - 7s 1ms/step - loss: 0.1802 - accuracy: 0.9372\n",
      "Epoch 9/10\n",
      "6250/6250 [==============================] - 7s 1ms/step - loss: 0.1798 - accuracy: 0.9376\n",
      "Epoch 10/10\n",
      "6250/6250 [==============================] - 7s 1ms/step - loss: 0.1795 - accuracy: 0.9374\n",
      "CPU times: user 1min 50s, sys: 7.53 s, total: 1min 57s\n",
      "Wall time: 1min 24s\n"
     ]
    },
    {
     "data": {
      "text/plain": [
       "<tensorflow.python.keras.callbacks.History at 0x7f454ad835d0>"
      ]
     },
     "execution_count": 37,
     "metadata": {},
     "output_type": "execute_result"
    }
   ],
   "source": [
    "%%time\n",
    "model.fit(data_tr_bin.drop(['SeriousDlqin2yrs'],axis=1).values.astype(np.float32), \n",
    "          data_tr_bin['SeriousDlqin2yrs'].values.astype(np.float32),\n",
    "          epochs=10, batch_size=16)"
   ]
  },
  {
   "cell_type": "markdown",
   "id": "4fb07f84",
   "metadata": {},
   "source": [
    "## Prediction with binning"
   ]
  },
  {
   "cell_type": "code",
   "execution_count": 38,
   "id": "63893dee",
   "metadata": {},
   "outputs": [],
   "source": [
    "y_hat_prob=model.predict(data_ts_bin.drop(['SeriousDlqin2yrs'],axis=1))\n",
    "y_hat=[0 if val<0.5 else 1 for val in y_hat_prob]\n",
    "\n",
    "y_hat_train_prob=model.predict(data_tr_bin.drop(['SeriousDlqin2yrs'],axis=1))\n",
    "y_hat_train=[0 if val<0.5 else 1 for val in y_hat_train_prob]"
   ]
  },
  {
   "cell_type": "code",
   "execution_count": 39,
   "id": "0d83aa76",
   "metadata": {},
   "outputs": [
    {
     "name": "stdout",
     "output_type": "stream",
     "text": [
      "acc:\t 0.935\n",
      "f1:\t 0.378\n",
      "AUC:\t 0.863\n"
     ]
    }
   ],
   "source": [
    "y_test=data_ts_bin['SeriousDlqin2yrs']\n",
    "print('acc:\\t %.3f' % accuracy_score(y_test, y_hat))\n",
    "f1=f1_score(y_test, y_hat)\n",
    "print('f1:\\t %.3f' % f1)\n",
    "auc = roc_auc_score(y_test, y_hat_prob)\n",
    "print('AUC:\\t %.3f' % auc)"
   ]
  },
  {
   "cell_type": "code",
   "execution_count": 40,
   "id": "245dd216",
   "metadata": {},
   "outputs": [
    {
     "name": "stdout",
     "output_type": "stream",
     "text": [
      "[[45794   809]\n",
      " [ 2418   979]]\n"
     ]
    },
    {
     "data": {
      "image/png": "[encoded data removed]",
      "text/plain": [
       "<Figure size 400x400 with 1 Axes>"
      ]
     },
     "metadata": {},
     "output_type": "display_data"
    }
   ],
   "source": [
    "# DRAW CONFUSION MATRIX\n",
    "from sklearn.metrics import confusion_matrix\n",
    "\n",
    "confmat = confusion_matrix(y_true=y_test, y_pred=y_hat)\n",
    "print(confmat)\n",
    "\n",
    "fig, ax = plt.subplots(figsize=(4, 4))\n",
    "ax.matshow(confmat, cmap=plt.cm.Blues, alpha=0.3)\n",
    "for i in range(confmat.shape[0]):\n",
    "    for j in range(confmat.shape[1]):\n",
    "        ax.text(x=j, y=i, s=confmat[i, j], va='center', ha='center')\n",
    "\n",
    "plt.xlabel('Predicted label')\n",
    "plt.ylabel('True label')\n",
    "\n",
    "plt.title('NN Binned DT Confusion Matrix')\n",
    "#plt.savefig('images/confusion_matrix_dt_nn_bin1.png', dpi=300)\n",
    "plt.show()"
   ]
  },
  {
   "cell_type": "code",
   "execution_count": 41,
   "id": "bda963af",
   "metadata": {},
   "outputs": [
    {
     "data": {
      "image/png": "[encoded data removed]",
      "text/plain": [
       "<Figure size 640x480 with 1 Axes>"
      ]
     },
     "metadata": {},
     "output_type": "display_data"
    }
   ],
   "source": [
    "from matplotlib import pyplot\n",
    "fpr, tpr, thresholds = roc_curve(y_test, y_hat_prob)\n",
    "# plot the roc curve for the model\n",
    "pyplot.plot(fpr, tpr, linestyle='--', label='Test')\n",
    "\n",
    "fpr, tpr, thresholds = roc_curve(y_train, y_hat_train_prob)\n",
    "# plot the roc curve for the model\n",
    "pyplot.plot(fpr, tpr, linestyle='-', label='Train')\n",
    "\n",
    "# axis labels\n",
    "pyplot.xlabel('False Positive Rate')\n",
    "pyplot.ylabel('True Positive Rate')\n",
    "# show the legend\n",
    "pyplot.legend()\n",
    "# show the plot\n",
    "pyplot.savefig('images/ROC_AUC_NN_bin.png', dpi=300)"
   ]
  },
  {
   "cell_type": "code",
   "execution_count": 42,
   "id": "a4b2a46e",
   "metadata": {},
   "outputs": [
    {
     "data": {
      "image/png": "[encoded data removed]",
      "text/plain": [
       "<Figure size 640x480 with 1 Axes>"
      ]
     },
     "metadata": {},
     "output_type": "display_data"
    }
   ],
   "source": [
    "from sklearn.metrics import precision_recall_curve\n",
    "\n",
    "precision, recall, _ = precision_recall_curve(y_test, y_hat_prob)\n",
    "\n",
    "# plot the precision-recall curves\n",
    "pyplot.plot(recall, precision, marker='', label='Model')\n",
    "# axis labels\n",
    "pyplot.xlabel('Recall')\n",
    "pyplot.ylabel('Precision')\n",
    "# show the legend\n",
    "pyplot.legend()\n",
    "# show the plot\n",
    "pyplot.savefig('images/prec_recall_NN_bin.png', dpi=300)"
   ]
  },
  {
   "cell_type": "markdown",
   "id": "c0a441eb",
   "metadata": {},
   "source": [
    "## Save model"
   ]
  },
  {
   "cell_type": "code",
   "execution_count": 43,
   "id": "91a17190",
   "metadata": {},
   "outputs": [],
   "source": [
    "model.save('tf_givemesomecredit_bin_dt.keras')"
   ]
  },
  {
   "cell_type": "markdown",
   "id": "7734e577",
   "metadata": {},
   "source": [
    "## LGBM"
   ]
  },
  {
   "cell_type": "code",
   "execution_count": 7,
   "id": "903ee00a",
   "metadata": {},
   "outputs": [],
   "source": [
    "import lightgbm as lgb"
   ]
  },
  {
   "cell_type": "code",
   "execution_count": 17,
   "id": "11be54a8",
   "metadata": {
    "scrolled": true
   },
   "outputs": [
    {
     "name": "stdout",
     "output_type": "stream",
     "text": [
      "[LightGBM] [Info] Number of positive: 6629, number of negative: 93371\n",
      "[LightGBM] [Warning] Auto-choosing row-wise multi-threading, the overhead of testing was 0.005016 seconds.\n",
      "You can set `force_row_wise=true` to remove the overhead.\n",
      "And if memory is not enough, you can set `force_col_wise=true`.\n",
      "[LightGBM] [Info] Total Bins 97\n",
      "[LightGBM] [Info] Number of data points in the train set: 100000, number of used features: 10\n",
      "[LightGBM] [Info] [binary:BoostFromScore]: pavg=0.066290 -> initscore=-2.645127\n",
      "[LightGBM] [Info] Start training from score -2.645127\n"
     ]
    },
    {
     "data": {
      "text/plain": [
       "LGBMClassifier(learning_rate=0.09, max_depth=-5, random_state=42)"
      ]
     },
     "execution_count": 17,
     "metadata": {},
     "output_type": "execute_result"
    }
   ],
   "source": [
    "clf = lgb.LGBMClassifier(learning_rate=0.09,max_depth=-5,random_state=42)\n",
    "clf.fit(data_tr_bin.drop(['SeriousDlqin2yrs'],axis=1).values.astype(np.float32),y_train)"
   ]
  },
  {
   "cell_type": "code",
   "execution_count": 18,
   "id": "85b3bda8",
   "metadata": {},
   "outputs": [],
   "source": [
    "y_hat_lgb_prob = clf.predict(X_test)\n",
    "y_hat_lgb=[0 if val<0.5 else 1 for val in y_hat_lgb_prob]"
   ]
  },
  {
   "cell_type": "code",
   "execution_count": 26,
   "id": "358afc78",
   "metadata": {},
   "outputs": [
    {
     "name": "stdout",
     "output_type": "stream",
     "text": [
      "acc:\t 0.934\n",
      "f1:\t 0.139\n",
      "AUC:\t 0.537\n"
     ]
    }
   ],
   "source": [
    "y_test=data_ts_bin['SeriousDlqin2yrs']\n",
    "print('acc:\\t %.3f' % accuracy_score(y_test, y_hat_lgb_prob))\n",
    "f1=f1_score(y_test, y_hat_lgb_prob)\n",
    "print('f1:\\t %.3f' % f1)\n",
    "auc = roc_auc_score(y_test, y_hat_lgb_prob)\n",
    "print('AUC:\\t %.3f' % auc)"
   ]
  },
  {
   "cell_type": "code",
   "execution_count": 27,
   "id": "15264103",
   "metadata": {},
   "outputs": [
    {
     "name": "stdout",
     "output_type": "stream",
     "text": [
      "[[46438   165]\n",
      " [ 3131   266]]\n"
     ]
    },
    {
     "data": {
      "image/png": "[encoded data removed]",
      "text/plain": [
       "<Figure size 400x400 with 1 Axes>"
      ]
     },
     "metadata": {},
     "output_type": "display_data"
    }
   ],
   "source": [
    "# DRAW CONFUSION MATRIX\n",
    "from sklearn.metrics import confusion_matrix\n",
    "\n",
    "confmat = confusion_matrix(y_true=y_test, y_pred=y_hat_lgb_prob)\n",
    "print(confmat)\n",
    "\n",
    "fig, ax = plt.subplots(figsize=(4, 4))\n",
    "ax.matshow(confmat, cmap=plt.cm.Blues, alpha=0.3)\n",
    "for i in range(confmat.shape[0]):\n",
    "    for j in range(confmat.shape[1]):\n",
    "        ax.text(x=j, y=i, s=confmat[i, j], va='center', ha='center')\n",
    "\n",
    "plt.xlabel('Predicted label')\n",
    "plt.ylabel('True label')\n",
    "\n",
    "plt.title('LGB Binned DT Confusion Matrix')\n",
    "plt.savefig('images/confusion_matrix_dt_lgb_bin.png', dpi=300)\n",
    "plt.show()"
   ]
  },
  {
   "cell_type": "code",
   "execution_count": 28,
   "id": "6a2859b8",
   "metadata": {},
   "outputs": [
    {
     "data": {
      "image/png": "[encoded data removed]",
      "text/plain": [
       "<Figure size 640x480 with 1 Axes>"
      ]
     },
     "metadata": {},
     "output_type": "display_data"
    }
   ],
   "source": [
    "from matplotlib import pyplot\n",
    "fpr, tpr, thresholds = roc_curve(y_test, y_hat_lgb_prob)\n",
    "# plot the roc curve for the model\n",
    "pyplot.plot(fpr, tpr, linestyle='--', label='Test')\n",
    "\n",
    "# axis labels\n",
    "pyplot.xlabel('False Positive Rate')\n",
    "pyplot.ylabel('True Positive Rate')\n",
    "# show the legend\n",
    "pyplot.legend()\n",
    "# show the plot\n",
    "pyplot.savefig('images/ROC_AUC_lgb.png', dpi=300)"
   ]
  },
  {
   "cell_type": "code",
   "execution_count": 29,
   "id": "2025ef6c",
   "metadata": {},
   "outputs": [
    {
     "data": {
      "image/png": "[encoded data removed]",
      "text/plain": [
       "<Figure size 640x480 with 1 Axes>"
      ]
     },
     "metadata": {},
     "output_type": "display_data"
    }
   ],
   "source": [
    "from sklearn.metrics import precision_recall_curve\n",
    "\n",
    "precision, recall, _ = precision_recall_curve(y_test, y_hat_lgb_prob)\n",
    "\n",
    "# plot the precision-recall curves\n",
    "pyplot.plot(recall, precision, marker='', label='Model')\n",
    "# axis labels\n",
    "pyplot.xlabel('Recall')\n",
    "pyplot.ylabel('Precision')\n",
    "# show the legend\n",
    "pyplot.legend()\n",
    "# show the plot\n",
    "pyplot.savefig('images/prec_recall_lgb.png', dpi=300)"
   ]
  },
  {
   "cell_type": "code",
   "execution_count": null,
   "id": "f9314d7e",
   "metadata": {},
   "outputs": [],
   "source": []
  },
  {
   "cell_type": "code",
   "execution_count": null,
   "id": "1f7a759b",
   "metadata": {},
   "outputs": [],
   "source": []
  },
  {
   "cell_type": "code",
   "execution_count": null,
   "id": "bae070de",
   "metadata": {},
   "outputs": [],
   "source": []
  },
  {
   "cell_type": "code",
   "execution_count": null,
   "id": "4182a724",
   "metadata": {},
   "outputs": [],
   "source": []
  },
  {
   "cell_type": "code",
   "execution_count": null,
   "id": "0040c032",
   "metadata": {},
   "outputs": [],
   "source": []
  },
  {
   "cell_type": "markdown",
   "id": "eb1bb159",
   "metadata": {},
   "source": [
    "## Past result from classifier2.ipynb"
   ]
  },
  {
   "cell_type": "code",
   "execution_count": 15,
   "id": "40136150",
   "metadata": {
    "scrolled": false
   },
   "outputs": [
    {
     "data": {
      "text/plain": [
       "'\\nClassifier2 result\\nROC AUC: 0.77 (+/- 0.00418) [Logistic regression]\\nROC AUC: 0.75 (+/- 0.00615) [Decision tree]\\nROC AUC: 0.78 (+/- 0.00497) [SVC]\\nROC AUC: 0.84 (+/- 0.00827) [Majority voting]\\n'"
      ]
     },
     "execution_count": 15,
     "metadata": {},
     "output_type": "execute_result"
    }
   ],
   "source": [
    "'''\n",
    "Classifier2 result\n",
    "ROC AUC: 0.77 (+/- 0.00418) [Logistic regression]\n",
    "ROC AUC: 0.75 (+/- 0.00615) [Decision tree]\n",
    "ROC AUC: 0.78 (+/- 0.00497) [SVC]\n",
    "ROC AUC: 0.84 (+/- 0.00827) [Majority voting]\n",
    "'''    "
   ]
  },
  {
   "cell_type": "code",
   "execution_count": 82,
   "id": "3de5a95f",
   "metadata": {},
   "outputs": [
    {
     "data": {
      "image/png": "[encoded data removed]",
      "text/plain": [
       "<Figure size 640x480 with 1 Axes>"
      ]
     },
     "metadata": {},
     "output_type": "display_data"
    }
   ],
   "source": [
    "roc_label=['Logistic regression','Decision tree','SVC','Majority voting','NN,bin']\n",
    "roc_val=[.77,.75,.78,.84,0.851]\n",
    "\n",
    "plt.ylabel('ROC AUC')\n",
    "plt.bar(roc_label,height=roc_val,color=['black','green','blue','red','purple'])\n",
    "\n",
    "plt.title('Receiver Operator Characteristic (ROC) AUC Comparison')\n",
    "plt.savefig('images/ROC_AUC_new.png', dpi=300)"
   ]
  },
  {
   "cell_type": "code",
   "execution_count": 83,
   "id": "08f96a08",
   "metadata": {},
   "outputs": [
    {
     "data": {
      "text/plain": [
       "0.013095238095238108"
      ]
     },
     "execution_count": 83,
     "metadata": {},
     "output_type": "execute_result"
    }
   ],
   "source": [
    "(0.851-0.84)/.84"
   ]
  },
  {
   "cell_type": "code",
   "execution_count": null,
   "id": "d6432d08",
   "metadata": {},
   "outputs": [],
   "source": []
  }
 ],
 "metadata": {
  "kernelspec": {
   "display_name": "Python 3 (ipykernel)",
   "language": "python",
   "name": "python3"
  },
  "language_info": {
   "codemirror_mode": {
    "name": "ipython",
    "version": 3
   },
   "file_extension": ".py",
   "mimetype": "text/x-python",
   "name": "python",
   "nbconvert_exporter": "python",
   "pygments_lexer": "ipython3",
   "version": "3.7.16"
  }
 },
 "nbformat": 4,
 "nbformat_minor": 5
}
